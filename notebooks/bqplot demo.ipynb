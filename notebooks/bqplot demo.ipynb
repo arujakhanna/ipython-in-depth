{
 "cells": [
  {
   "cell_type": "code",
   "execution_count": 1,
   "metadata": {},
   "outputs": [],
   "source": [
    "%matplotlib inline\n",
    "import numpy as np\n",
    "from matplotlib import pyplot as plt"
   ]
  },
  {
   "cell_type": "code",
   "execution_count": null,
   "metadata": {},
   "outputs": [],
   "source": [
    "#acc.csv file will contain the the x and y accerlation with sampling rate,t\n",
    "t = 0.002    #just assumed this value\n",
    "file = 'acc.csv'\n",
    "data_x = []\n",
    "data_y = []\n",
    "num_points = 0\n",
    "\n",
    "with open(file, \"r\") as f:\n",
    "    for row in f:\n",
    "        num_points += 1\n",
    "        elements = row.split(',')\n",
    "        data_x.append(float(elements[0]))\n",
    "        data_y.append(float(elements[1]))\n",
    "\n",
    "data_x.reverse()\n",
    "data_y.reverse()\n",
    "#I've reversed the just in case if the file contains the data in the order of newest to oldest"
   ]
  },
  {
   "cell_type": "code",
   "execution_count": null,
   "metadata": {},
   "outputs": [],
   "source": [
    "velo_x = [0]\n",
    "velo_y = [0]\n",
    "pos_x = [0]\n",
    "pos_y = [0]\n",
    "\n",
    "velo_x.append(data_x[0]/2*t)\n",
    "velo_y.append(data_y[0]/2*t)\n",
    "\n",
    "\n",
    "\n",
    "for i in range(1:num_points):\n",
    "    pos_x.append((velo_x[i]+velo_x[i-1])/2*t)\n",
    "    pos_y.append((velo_y[i]+velo_y[i-1])/2*t)\n",
    "    \n",
    "    velo_x.append((data_x[i]+data_x[i-1])/2*t)\n",
    "    velo_y.append((data_y[i]+data_y[i-1])/2*t)\n",
    "\n",
    "pos_x.append((velo_x[num_points]+velo_x[num_points-1])/2*t)\n",
    "pos_y.append((velo_y[num_points]+velo_y[num_points-1])/2*t)"
   ]
  },
  {
   "cell_type": "code",
   "execution_count": null,
   "metadata": {},
   "outputs": [],
   "source": [
    "pos_x = asarray(pos_x)\n",
    "pos_y = asarray(pos_y)\n",
    "plt.plot(pos_x,pos_y,'ro')\n",
    "plt.axis('off')\n",
    "plt.savefig('image.png')"
   ]
  },
  {
   "cell_type": "code",
   "execution_count": null,
   "metadata": {},
   "outputs": [],
   "source": []
  }
 ],
 "metadata": {
  "kernelspec": {
   "display_name": "Python 3",
   "language": "python",
   "name": "python3"
  },
  "language_info": {
   "codemirror_mode": {
    "name": "ipython",
    "version": 3
   },
   "file_extension": ".py",
   "mimetype": "text/x-python",
   "name": "python",
   "nbconvert_exporter": "python",
   "pygments_lexer": "ipython3",
   "version": "3.7.6"
  }
 },
 "nbformat": 4,
 "nbformat_minor": 2
}
